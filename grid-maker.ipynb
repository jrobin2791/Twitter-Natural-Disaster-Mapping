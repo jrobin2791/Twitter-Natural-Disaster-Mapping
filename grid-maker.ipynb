{
 "cells": [
  {
   "cell_type": "markdown",
   "metadata": {},
   "source": [
    "# Grid Maker"
   ]
  },
  {
   "cell_type": "markdown",
   "metadata": {},
   "source": [
    "The following functions are designed to take in a single set of coordinates and create a grid of equidistant points with dimensions of your choosing. From this we can use twitterscraper to pull tweets from a limited area around each of these points, and then be able to determine the level of danger at each of these areas specifically."
   ]
  },
  {
   "cell_type": "code",
   "execution_count": 1,
   "metadata": {
    "ExecuteTime": {
     "end_time": "2019-04-22T23:30:59.298745Z",
     "start_time": "2019-04-22T23:30:59.277508Z"
    }
   },
   "outputs": [],
   "source": [
    "import math\n",
    "import matplotlib.pyplot as plt"
   ]
  },
  {
   "cell_type": "code",
   "execution_count": 2,
   "metadata": {
    "ExecuteTime": {
     "end_time": "2019-04-22T23:30:59.332071Z",
     "start_time": "2019-04-22T23:30:59.303960Z"
    }
   },
   "outputs": [],
   "source": [
    "# this code has been adapted from stackoverflow.com\n",
    "# takes in a set of coordinates, a bering, and a distance\n",
    "# returns a new set of coordinates that is the specified distance away in the direction of the bering\n",
    "def adj_grid_point(lat, lon, brng, d):\n",
    "    \n",
    "    R = 6378.1 #Radius of the Earth\n",
    "\n",
    "    lat1 = math.radians(lat) #Current lat point converted to radians\n",
    "    lon1 = math.radians(lon) #Current long point converted to radians\n",
    "\n",
    "    # calculating the new latitude based on the distance and bering provided\n",
    "    lat2 = math.asin( math.sin(lat1)*math.cos(d/R) +\n",
    "         math.cos(lat1)*math.sin(d/R)*math.cos(brng))\n",
    "    \n",
    "    # calculating the new longitude based on the distance and bering provided\n",
    "    lon2 = lon1 + math.atan2(math.sin(brng)*math.sin(d/R)*math.cos(lat1),\n",
    "                 math.cos(d/R)-math.sin(lat1)*math.sin(lat2))\n",
    "\n",
    "    # converting the latitude and longitude back from radians to degrees\n",
    "    lat2 = math.degrees(lat2)\n",
    "    lon2 = math.degrees(lon2)\n",
    "    \n",
    "    # returning the new set of coordinates\n",
    "    return lat2, lon2"
   ]
  },
  {
   "cell_type": "code",
   "execution_count": 3,
   "metadata": {
    "ExecuteTime": {
     "end_time": "2019-04-22T23:30:59.360072Z",
     "start_time": "2019-04-22T23:30:59.334394Z"
    }
   },
   "outputs": [
    {
     "data": {
      "text/plain": [
       "(40.744953798297296, -73.80443344376857)"
      ]
     },
     "execution_count": 3,
     "metadata": {},
     "output_type": "execute_result"
    }
   ],
   "source": [
    "# testing the function above\n",
    "adj_grid_point(40.744983, -73.982290, 1.57, 15)"
   ]
  },
  {
   "cell_type": "code",
   "execution_count": 4,
   "metadata": {
    "ExecuteTime": {
     "end_time": "2019-04-22T23:30:59.379224Z",
     "start_time": "2019-04-22T23:30:59.365467Z"
    }
   },
   "outputs": [],
   "source": [
    "# this function returns a line of equidistant coordinate points in the form of a list\n",
    "# takes in a starting latitude and longitude\n",
    "# creates a line with a set number of points (length) at a set distance apart\n",
    "# the line will be created from South to North\n",
    "def grid_centers_line(lat, lon, length, distance):\n",
    "    \n",
    "    # setting the starting point for the line\n",
    "    start = (lat, lon)\n",
    "    \n",
    "    # creating a list to store the coordinate points in the line\n",
    "    # the first item in the list will be the starting point\n",
    "    coordinates = [start]\n",
    "    \n",
    "    # repeat this process for the length of the line, excluding the starting point\n",
    "    for i in range(1, length):\n",
    "        \n",
    "        # create a new point at the given distance Northbound from the previous point\n",
    "        new_coordinates = adj_grid_point(lat, lon, 0, distance)\n",
    "        # add this new point to the coordinate list\n",
    "        coordinates.append(new_coordinates)\n",
    "        # reset the point to be the new coordinates so that the line keeps moving up\n",
    "        lat, lon = new_coordinates\n",
    "    \n",
    "    # return the final list of coordinates\n",
    "    return coordinates"
   ]
  },
  {
   "cell_type": "code",
   "execution_count": 5,
   "metadata": {
    "ExecuteTime": {
     "end_time": "2019-04-22T23:30:59.394094Z",
     "start_time": "2019-04-22T23:30:59.383034Z"
    }
   },
   "outputs": [
    {
     "data": {
      "text/plain": [
       "[(40.744983, -73.98229),\n",
       " (40.87973107430053, -73.98229),\n",
       " (41.01447914860106, -73.98229),\n",
       " (41.1492272229016, -73.98229),\n",
       " (41.28397529720214, -73.98229)]"
      ]
     },
     "execution_count": 5,
     "metadata": {},
     "output_type": "execute_result"
    }
   ],
   "source": [
    "# testing the function above (5 points in a line going North, each 15km apart)\n",
    "grid_centers_line(40.744983, -73.982290, 5, 15)"
   ]
  },
  {
   "cell_type": "code",
   "execution_count": 6,
   "metadata": {
    "ExecuteTime": {
     "end_time": "2019-04-22T23:30:59.410278Z",
     "start_time": "2019-04-22T23:30:59.397372Z"
    }
   },
   "outputs": [],
   "source": [
    "# this function returns a grid of equidistant coordinate points in the form of a list\n",
    "# takes in a starting latitude and longitude\n",
    "# creates a grid of points of any dimension (length, width)\n",
    "# the points can be any distance apart from each other\n",
    "def make_grid(lat, lon, length, width, distance):\n",
    "    \n",
    "    # creating a list to store the grid of coordinates\n",
    "    # the first items in the list will be generating using the line generating function\n",
    "    # the line will start from the given latitude and longitude and continue North\n",
    "    # the number of points will be the length given and they will be separated by the distance given\n",
    "    grid = grid_centers_line(lat, lon, length, distance)\n",
    "    \n",
    "    # repeat this process for the width of the grid, excluding the first line\n",
    "    for i in range(1, width):\n",
    "        \n",
    "        # find the point at the given distance East from the starting point of the previous line\n",
    "        start = adj_grid_point(lat, lon, 1.5708, distance)\n",
    "        # create a new line of points going North from the new starting point\n",
    "        # add the points to the grid of coordinates list\n",
    "        grid.extend(grid_centers_line(start[0], start[1], length, distance))\n",
    "        # reset the latitude and longitude of the starting point so the grid keeps building to the East\n",
    "        lat, lon = start\n",
    "    \n",
    "    # return the final grid of coordinates list\n",
    "    return grid"
   ]
  },
  {
   "cell_type": "code",
   "execution_count": 7,
   "metadata": {
    "ExecuteTime": {
     "end_time": "2019-04-22T23:56:53.657365Z",
     "start_time": "2019-04-22T23:56:53.637052Z"
    }
   },
   "outputs": [
    {
     "data": {
      "text/plain": [
       "[(39.277811, -75.041283),\n",
       " (39.41255907430054, -75.041283),\n",
       " (39.54730714860107, -75.041283),\n",
       " (39.6820552229016, -75.041283),\n",
       " (39.816803297202135, -75.041283),\n",
       " (39.27768091776229, -74.8672093126453),\n",
       " (39.41242899206283, -74.8672093126453),\n",
       " (39.54717706636336, -74.8672093126453),\n",
       " (39.68192514066391, -74.8672093126453),\n",
       " (39.816673214964446, -74.8672093126453),\n",
       " (39.27755083612493, -74.6931359485081),\n",
       " (39.412298910425456, -74.6931359485081),\n",
       " (39.547046984725995, -74.6931359485081),\n",
       " (39.68179505902652, -74.6931359485081),\n",
       " (39.81654313332706, -74.6931359485081),\n",
       " (39.27742075508791, -74.51906290758481),\n",
       " (39.41216882938845, -74.51906290758481),\n",
       " (39.54691690368898, -74.51906290758481),\n",
       " (39.68166497798951, -74.51906290758481),\n",
       " (39.816413052290045, -74.51906290758481),\n",
       " (39.27729067465125, -74.34499018987187),\n",
       " (39.41203874895178, -74.34499018987187),\n",
       " (39.54678682325231, -74.34499018987187),\n",
       " (39.68153489755285, -74.34499018987187),\n",
       " (39.81628297185338, -74.34499018987187)]"
      ]
     },
     "execution_count": 7,
     "metadata": {},
     "output_type": "execute_result"
    }
   ],
   "source": [
    "# testing the function above (a 5 by 5 gird of coordinate points, each 15 km apart)\n",
    "grid = make_grid(39.277811, -75.041283, 5, 5, 15)\n",
    "grid"
   ]
  },
  {
   "cell_type": "code",
   "execution_count": 8,
   "metadata": {
    "ExecuteTime": {
     "end_time": "2019-04-22T18:14:11.417000Z",
     "start_time": "2019-04-22T18:14:10.983356Z"
    },
    "scrolled": true
   },
   "outputs": [
    {
     "data": {
      "image/png": "[encoded data removed]",
      "text/plain": [
       "<Figure size 432x288 with 1 Axes>"
      ]
     },
     "metadata": {
      "needs_background": "light"
     },
     "output_type": "display_data"
    }
   ],
   "source": [
    "# visualizing the grid as a final test\n",
    "\n",
    "# setting lists for plotting x and y\n",
    "x = []\n",
    "y = []\n",
    "\n",
    "# populating the lists from the test grid created above\n",
    "for coordinate in grid:\n",
    "    x.append(coordinate[0])\n",
    "    y.append(coordinate[1])\n",
    "\n",
    "# using a scatterplot to visualize the results\n",
    "plt.scatter(x, y);"
   ]
  }
 ],
 "metadata": {
  "kernelspec": {
   "display_name": "Python 3",
   "language": "python",
   "name": "python3"
  },
  "language_info": {
   "codemirror_mode": {
    "name": "ipython",
    "version": 3
   },
   "file_extension": ".py",
   "mimetype": "text/x-python",
   "name": "python",
   "nbconvert_exporter": "python",
   "pygments_lexer": "ipython3",
   "version": "3.6.7"
  },
  "varInspector": {
   "cols": {
    "lenName": 16,
    "lenType": 16,
    "lenVar": 40
   },
   "kernels_config": {
    "python": {
     "delete_cmd_postfix": "",
     "delete_cmd_prefix": "del ",
     "library": "var_list.py",
     "varRefreshCmd": "print(var_dic_list())"
    },
    "r": {
     "delete_cmd_postfix": ") ",
     "delete_cmd_prefix": "rm(",
     "library": "var_list.r",
     "varRefreshCmd": "cat(var_dic_list()) "
    }
   },
   "types_to_exclude": [
    "module",
    "function",
    "builtin_function_or_method",
    "instance",
    "_Feature"
   ],
   "window_display": false
  }
 },
 "nbformat": 4,
 "nbformat_minor": 2
}
